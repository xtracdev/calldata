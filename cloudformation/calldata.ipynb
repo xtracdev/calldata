{
 "cells": [
  {
   "cell_type": "markdown",
   "metadata": {},
   "source": [
    "# Deploy the API Call and Timing Data Pipeline"
   ]
  },
  {
   "cell_type": "markdown",
   "metadata": {},
   "source": [
    "## Extract Environment Settings"
   ]
  },
  {
   "cell_type": "code",
   "execution_count": null,
   "metadata": {
    "collapsed": false
   },
   "outputs": [],
   "source": [
    "import os\n",
    "\n",
    "bucket = os.environ['CF_BUCKET']\n",
    "region = os.environ['AWS_DEFAULT_REGION']\n",
    "master_user_password = os.environ['MASTER_USER_PASSWORD']\n",
    "key_name = os.environ['KEYPAIRNAME']\n",
    "\n",
    "\n",
    "# Set bucket root based on region and deploy bucket\n",
    "bucketRoot = 'https://s3-' + region + '.amazonaws.com/' + bucket\n",
    "print bucketRoot"
   ]
  },
  {
   "cell_type": "markdown",
   "metadata": {},
   "source": [
    "## Stack Names"
   ]
  },
  {
   "cell_type": "code",
   "execution_count": null,
   "metadata": {
    "collapsed": true
   },
   "outputs": [],
   "source": [
    "vpc_stack = 'calldata-vpc'\n",
    "bucket_stack = 'calldata-bucket'\n",
    "redshift_stack = 'calldata-redshift'\n",
    "firehose_stack = 'calldata-firehose'\n",
    "lambda_stack = 'calldata-lambda'"
   ]
  },
  {
   "cell_type": "markdown",
   "metadata": {},
   "source": [
    "## Stack Settings"
   ]
  },
  {
   "cell_type": "code",
   "execution_count": null,
   "metadata": {
    "collapsed": true
   },
   "outputs": [],
   "source": [
    "database_name = 'mydb'\n",
    "redshift_db_user = 'mydbuser'\n",
    "db_bastion_host_stack = 'db-maint-host'\n",
    "sumo_source_bucket = 'xt-sumo-test-eu-west-1'"
   ]
  },
  {
   "cell_type": "markdown",
   "metadata": {},
   "source": [
    "## SDK Setup"
   ]
  },
  {
   "cell_type": "code",
   "execution_count": null,
   "metadata": {
    "collapsed": true
   },
   "outputs": [],
   "source": [
    "import boto3\n",
    "\n",
    "client = boto3.client('cloudformation')\n",
    "waiter = client.get_waiter('stack_create_complete')"
   ]
  },
  {
   "cell_type": "markdown",
   "metadata": {},
   "source": [
    "## VPC Set Up"
   ]
  },
  {
   "cell_type": "code",
   "execution_count": null,
   "metadata": {
    "collapsed": false
   },
   "outputs": [],
   "source": [
    "response = client.create_stack(\n",
    "    StackName=vpc_stack,\n",
    "    TemplateURL='https://s3-' + region + '.amazonaws.com/' + bucket + '/vpc-pub-priv.yaml'\n",
    ")\n",
    "\n",
    "print response\n",
    "\n",
    "print 'waiting for network stack to complete...'\n",
    "waiter.wait(\n",
    "    StackName=vpc_stack\n",
    ")\n",
    "print 'network stack created'"
   ]
  },
  {
   "cell_type": "markdown",
   "metadata": {},
   "source": [
    "## Harvest VPC Values"
   ]
  },
  {
   "cell_type": "code",
   "execution_count": null,
   "metadata": {
    "collapsed": false
   },
   "outputs": [],
   "source": [
    "response = client.describe_stacks(\n",
    "    StackName=vpc_stack\n",
    ")\n",
    "\n",
    "stack_outputs = response['Stacks'][0]['Outputs']\n",
    "\n",
    "vpc = [d for d in stack_outputs if d['OutputKey'] == 'VpcId'][0]['OutputValue']\n",
    "print vpc\n",
    "privateSubnet1 = [d for d in stack_outputs if d['OutputKey'] == 'PrivateSubnet1'][0]['OutputValue']\n",
    "print privateSubnet1\n",
    "privateSubnet2 = [d for d in stack_outputs if d['OutputKey'] == 'PrivateSubnet2'][0]['OutputValue']\n",
    "print privateSubnet2\n",
    "publicSubnet1 = [d for d in stack_outputs if d['OutputKey'] == 'PublicSubnet1'][0]['OutputValue']\n",
    "print publicSubnet1\n",
    "publicSubnet2 = [d for d in stack_outputs if d['OutputKey'] == 'PublicSubnet2'][0]['OutputValue']\n",
    "print publicSubnet2"
   ]
  },
  {
   "cell_type": "markdown",
   "metadata": {
    "collapsed": true
   },
   "source": [
    "## Create Redshift Cluster"
   ]
  },
  {
   "cell_type": "code",
   "execution_count": null,
   "metadata": {
    "collapsed": false
   },
   "outputs": [],
   "source": [
    "response = client.create_stack(\n",
    "    StackName=redshift_stack,\n",
    "    TemplateURL='https://s3-' + region + '.amazonaws.com/' + bucket + '/redshift.yml',\n",
    "    Parameters=[\n",
    "        {\n",
    "            'ParameterKey': 'MasterUsername',\n",
    "            'ParameterValue': redshift_db_user\n",
    "        },\n",
    "        {\n",
    "            'ParameterKey': 'DatabaseName',\n",
    "            'ParameterValue': database_name\n",
    "        },\n",
    "        {\n",
    "            'ParameterKey': 'NodeType',\n",
    "            'ParameterValue': 'dw2.large'\n",
    "        },\n",
    "        {\n",
    "            'ParameterKey': 'VpcId',\n",
    "            'ParameterValue': vpc\n",
    "        },\n",
    "        {\n",
    "            'ParameterKey': 'PublicSubnet1',\n",
    "            'ParameterValue': publicSubnet1\n",
    "        },\n",
    "        {\n",
    "            'ParameterKey': 'PublicSubnet2',\n",
    "            'ParameterValue': publicSubnet2\n",
    "        },\n",
    "        {\n",
    "            'ParameterKey': 'MasterUserPassword',\n",
    "            'ParameterValue': master_user_password\n",
    "        }\n",
    "    ]\n",
    ")\n",
    "\n",
    "print response"
   ]
  },
  {
   "cell_type": "code",
   "execution_count": null,
   "metadata": {
    "collapsed": false
   },
   "outputs": [],
   "source": [
    "print 'waiting for redshift stack to complete...'\n",
    "waiter.wait(\n",
    "    StackName=redshift_stack\n",
    ")\n",
    "print 'redshift stack created'"
   ]
  },
  {
   "cell_type": "markdown",
   "metadata": {},
   "source": [
    "## Extract Redshift Stack Output"
   ]
  },
  {
   "cell_type": "code",
   "execution_count": null,
   "metadata": {
    "collapsed": false
   },
   "outputs": [],
   "source": [
    "response = client.describe_stacks(\n",
    "    StackName=redshift_stack\n",
    ")\n",
    "\n",
    "stack_outputs = response['Stacks'][0]['Outputs']\n",
    "\n",
    "redshift_vpc_sg = [d for d in stack_outputs if d['OutputKey'] == 'VPCIngressSecurityGroup'][0]['OutputValue']\n",
    "print redshift_vpc_sg\n",
    "\n",
    "redshift_cluster_hostname = [d for d in stack_outputs if d['OutputKey'] == 'ClusterHostName'][0]['OutputValue']\n",
    "print redshift_cluster_hostname"
   ]
  },
  {
   "cell_type": "markdown",
   "metadata": {
    "collapsed": true
   },
   "source": [
    "## Launch Bastion Host\n",
    "\n",
    "Launch a bastion host into the same VPC as the redshift DB, and leverage user data to create the tables needed in Redshift."
   ]
  },
  {
   "cell_type": "code",
   "execution_count": null,
   "metadata": {
    "collapsed": false
   },
   "outputs": [],
   "source": [
    "templateUrl = bucketRoot + '/launch_maint.yml'\n",
    "print 'Launch bastion host via', templateUrl\n",
    "\n",
    "launch_resp = client.create_stack(\n",
    "    StackName=db_bastion_host_stack,\n",
    "    TemplateURL=templateUrl,\n",
    "    Parameters=[\n",
    "        {\n",
    "            'ParameterKey': 'PublicSubnet',\n",
    "            'ParameterValue': publicSubnet1\n",
    "        },\n",
    "        {\n",
    "            'ParameterKey': 'DBMaintSecurityGroup',\n",
    "            'ParameterValue': redshift_vpc_sg\n",
    "        }\n",
    "        ,\n",
    "        {\n",
    "            'ParameterKey': 'KeyName',\n",
    "            'ParameterValue': key_name\n",
    "        },\n",
    "        {\n",
    "            'ParameterKey': 'DBHost',\n",
    "            'ParameterValue': redshift_cluster_hostname\n",
    "        },\n",
    "        {\n",
    "            'ParameterKey': 'DBUser',\n",
    "            'ParameterValue': redshift_db_user\n",
    "        },\n",
    "        {\n",
    "            'ParameterKey': 'DBPassword',\n",
    "            'ParameterValue': master_user_password\n",
    "        },\n",
    "        {\n",
    "            'ParameterKey': 'DBService',\n",
    "            'ParameterValue': database_name\n",
    "        },\n",
    "        {\n",
    "            'ParameterKey': 'BucketName',\n",
    "            'ParameterValue': bucket\n",
    "        }\n",
    "    ],\n",
    "    Capabilities=[\n",
    "        'CAPABILITY_IAM',\n",
    "    ]\n",
    ")\n",
    "\n",
    "print launch_resp"
   ]
  },
  {
   "cell_type": "markdown",
   "metadata": {},
   "source": [
    "## Firehose Bucket\n",
    "\n",
    "Firehose needs an S3 bucket to stage the data it loads into redshift. Here we create it with cloud formation so we can set up and tear down buckets based on the stack, so we don't worry about bucket name, etc."
   ]
  },
  {
   "cell_type": "code",
   "execution_count": null,
   "metadata": {
    "collapsed": false
   },
   "outputs": [],
   "source": [
    "response = client.create_stack(\n",
    "    StackName=bucket_stack,\n",
    "    TemplateURL=bucketRoot +  '/bucket.yml',\n",
    ")\n",
    "\n",
    "print response"
   ]
  },
  {
   "cell_type": "code",
   "execution_count": null,
   "metadata": {
    "collapsed": false
   },
   "outputs": [],
   "source": [
    "print 'waiting for bucket stack to complete...'\n",
    "waiter.wait(\n",
    "    StackName=bucket_stack\n",
    ")\n",
    "print 'bucket created'"
   ]
  },
  {
   "cell_type": "code",
   "execution_count": null,
   "metadata": {
    "collapsed": false
   },
   "outputs": [],
   "source": [
    "response = client.describe_stacks(\n",
    "    StackName=bucket_stack\n",
    ")\n",
    "\n",
    "stack_outputs = response['Stacks'][0]['Outputs']\n",
    "\n",
    "firehose_bucket_name = [d for d in stack_outputs if d['OutputKey'] == 'BucketName'][0]['OutputValue']\n",
    "print firehose_bucket_name"
   ]
  },
  {
   "cell_type": "markdown",
   "metadata": {
    "collapsed": true
   },
   "source": [
    "## Firehose Stack"
   ]
  },
  {
   "cell_type": "code",
   "execution_count": null,
   "metadata": {
    "collapsed": false
   },
   "outputs": [],
   "source": [
    "jdbc_url = 'jdbc:redshift://' + redshift_cluster_hostname + ':5439/' + database_name\n",
    "print jdbc_url"
   ]
  },
  {
   "cell_type": "code",
   "execution_count": null,
   "metadata": {
    "collapsed": false
   },
   "outputs": [],
   "source": [
    "response = client.create_stack(\n",
    "    StackName=firehose_stack,\n",
    "    TemplateURL=bucketRoot +  '/firehose.yml',\n",
    "    Parameters=[\n",
    "        {\n",
    "            'ParameterKey': 'FirehoseBucketName',\n",
    "            'ParameterValue': firehose_bucket_name\n",
    "        },\n",
    "        {\n",
    "            'ParameterKey': 'RedshiftJDBCUrl',\n",
    "            'ParameterValue': jdbc_url\n",
    "        },\n",
    "        {\n",
    "            'ParameterKey': 'Username',\n",
    "            'ParameterValue': redshift_db_user\n",
    "        },\n",
    "        {\n",
    "            'ParameterKey': 'Password',\n",
    "            'ParameterValue':master_user_password\n",
    "        }\n",
    "    ],\n",
    "    Capabilities=[\n",
    "        'CAPABILITY_IAM',\n",
    "    ]\n",
    ")\n",
    "\n",
    "print response"
   ]
  },
  {
   "cell_type": "code",
   "execution_count": null,
   "metadata": {
    "collapsed": false
   },
   "outputs": [],
   "source": [
    "print 'waiting for firehose stack to complete...'\n",
    "waiter.wait(\n",
    "    StackName=firehose_stack\n",
    ")\n",
    "print 'firehose created'"
   ]
  },
  {
   "cell_type": "code",
   "execution_count": null,
   "metadata": {
    "collapsed": false
   },
   "outputs": [],
   "source": [
    "response = client.describe_stacks(\n",
    "    StackName=firehose_stack\n",
    ")\n",
    "\n",
    "stack_outputs = response['Stacks'][0]['Outputs']\n",
    "\n",
    "svc_call_stream = [d for d in stack_outputs if d['OutputKey'] == 'SvcCallDeliveryStream'][0]['OutputValue']\n",
    "print svc_call_stream\n",
    "call_record_stream = [d for d in stack_outputs if d['OutputKey'] == 'CallRecordDeliveryStream'][0]['OutputValue']\n",
    "print call_record_stream"
   ]
  },
  {
   "cell_type": "markdown",
   "metadata": {
    "collapsed": true
   },
   "source": [
    "## Put a Record"
   ]
  },
  {
   "cell_type": "code",
   "execution_count": null,
   "metadata": {
    "collapsed": false
   },
   "outputs": [],
   "source": [
    "firehose_client = boto3.client('firehose')\n",
    "\n",
    "response = firehose_client.put_record(\n",
    "    DeliveryStreamName=call_record_stream,\n",
    "    Record={\n",
    "        'Data': b'2016-07-01 15:22:58|181c575a-ef8c-4468-76e3-3c95ff3a5e4b|false|vc2coma2078845n|/xapi/DEV/NONPROD|xtracApi-GET-work-items-communications|XWHRon|a79fcb28-2621-4973-8a1e-c09a2ab30f79|262\\n'\n",
    "    }\n",
    ")\n",
    "\n",
    "print response"
   ]
  },
  {
   "cell_type": "code",
   "execution_count": null,
   "metadata": {
    "collapsed": false
   },
   "outputs": [],
   "source": [
    "response = firehose_client.put_record(\n",
    "    DeliveryStreamName=svc_call_stream,\n",
    "    Record={\n",
    "        'Data':b'2016-09-09 15:09:09|181c575a-ef8c-4468-76e3-3c95ff3a5e4b|false|Core-Correspondence-RetrieveCorrList|vc2coma2078845n.fmr.com:11000|15\\n'\n",
    "    }\n",
    ")\n",
    "\n",
    "print response"
   ]
  },
  {
   "cell_type": "markdown",
   "metadata": {
    "collapsed": true
   },
   "source": [
    "## Deploy Lambda"
   ]
  },
  {
   "cell_type": "code",
   "execution_count": null,
   "metadata": {
    "collapsed": false
   },
   "outputs": [],
   "source": [
    "response = client.create_stack(\n",
    "    StackName=lambda_stack,\n",
    "    TemplateURL=bucketRoot +  '/sumoreader.yml',\n",
    "    Parameters=[\n",
    "        {\n",
    "            'ParameterKey': 'CallRecordStreamName',\n",
    "            'ParameterValue': call_record_stream\n",
    "        },\n",
    "        {\n",
    "            'ParameterKey': 'SvcCallStreamName',\n",
    "            'ParameterValue': svc_call_stream\n",
    "        },\n",
    "        {\n",
    "            'ParameterKey': 'CodeBucketName',\n",
    "            'ParameterValue': bucket\n",
    "        },\n",
    "        {\n",
    "            'ParameterKey': 'CodeFileName',\n",
    "            'ParameterValue': 'lambda.zip'\n",
    "        },\n",
    "        {\n",
    "            'ParameterKey': 'SumoSourceBucketName',\n",
    "            'ParameterValue': sumo_source_bucket\n",
    "        }\n",
    "        \n",
    "    ],\n",
    "    Capabilities=[\n",
    "        'CAPABILITY_IAM',\n",
    "    ]\n",
    ")\n",
    "\n",
    "print response"
   ]
  },
  {
   "cell_type": "code",
   "execution_count": null,
   "metadata": {
    "collapsed": false
   },
   "outputs": [],
   "source": [
    "foo = \"\"\"\n",
    "{\n",
    "    \"foo\":123\n",
    "}\"\"\"\n",
    "    \n",
    "print foo"
   ]
  },
  {
   "cell_type": "code",
   "execution_count": null,
   "metadata": {
    "collapsed": false
   },
   "outputs": [],
   "source": [
    "response = client.describe_stacks(\n",
    "    StackName=lambda_stack\n",
    ")\n",
    "\n",
    "stack_outputs = response['Stacks'][0]['Outputs']\n",
    "\n",
    "lambda_arn = [d for d in stack_outputs if d['OutputKey'] == 'SumoReaderLambdaArn'][0]['OutputValue']\n",
    "print lambda_arn"
   ]
  },
  {
   "cell_type": "code",
   "execution_count": null,
   "metadata": {
    "collapsed": false
   },
   "outputs": [],
   "source": [
    "event_config_open = \"\"\"\n",
    "{\n",
    "    \"LambdaFunctionConfigurations\": [{\n",
    "        \"Id\":\"invoke_parse_fn\",\n",
    "        \"LambdaFunctionArn\": \\\"\"\"\"\n",
    "\n",
    "event_config_close = \"\"\"\\\",\n",
    "        \"Events\": [\n",
    "            \"s3:ObjectCreated:*\"\n",
    "        ]\n",
    "    }]\n",
    "}\n",
    "\"\"\"    \n",
    "    \n",
    "event_config = event_config_open + 'lambda_arn' + event_config_close\n",
    "\n",
    "print event_config"
   ]
  },
  {
   "cell_type": "code",
   "execution_count": null,
   "metadata": {
    "collapsed": false
   },
   "outputs": [],
   "source": [
    "s3client = boto3.client('s3')\n",
    "response = s3client.put_bucket_notification_configuration(\n",
    "    Bucket=sumo_source_bucket,\n",
    "    NotificationConfiguration={\n",
    "        'LambdaFunctionConfigurations': [\n",
    "            {\n",
    "                'LambdaFunctionArn': lambda_arn,\n",
    "                'Events': [\n",
    "                    's3:ObjectCreated:*'\n",
    "                ],\n",
    "            }\n",
    "        ]\n",
    "    })\n",
    "\n",
    "print response"
   ]
  },
  {
   "cell_type": "code",
   "execution_count": null,
   "metadata": {
    "collapsed": true
   },
   "outputs": [],
   "source": []
  }
 ],
 "metadata": {
  "kernelspec": {
   "display_name": "Python 2",
   "language": "python",
   "name": "python2"
  },
  "language_info": {
   "codemirror_mode": {
    "name": "ipython",
    "version": 2
   },
   "file_extension": ".py",
   "mimetype": "text/x-python",
   "name": "python",
   "nbconvert_exporter": "python",
   "pygments_lexer": "ipython2",
   "version": "2.7.12"
  }
 },
 "nbformat": 4,
 "nbformat_minor": 0
}
