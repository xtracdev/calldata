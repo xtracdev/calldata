{
 "cells": [
  {
   "cell_type": "markdown",
   "metadata": {},
   "source": [
    "# Deploy the API Call and Timing Data Pipeline"
   ]
  },
  {
   "cell_type": "markdown",
   "metadata": {},
   "source": [
    "## Extract Environment Settings"
   ]
  },
  {
   "cell_type": "code",
   "execution_count": null,
   "metadata": {
    "collapsed": false
   },
   "outputs": [],
   "source": [
    "import os\n",
    "\n",
    "bucket = os.environ['CF_BUCKET']\n",
    "region = os.environ['AWS_DEFAULT_REGION']\n",
    "master_user_password = os.environ['MASTER_USER_PASSWORD']\n",
    "key_name = os.environ['KEYPAIRNAME']\n",
    "\n",
    "\n",
    "# Set bucket root based on region and deploy bucket\n",
    "bucketRoot = 'https://s3-' + region + '.amazonaws.com/' + bucket\n",
    "print bucketRoot"
   ]
  },
  {
   "cell_type": "markdown",
   "metadata": {},
   "source": [
    "## Stack Names"
   ]
  },
  {
   "cell_type": "code",
   "execution_count": null,
   "metadata": {
    "collapsed": true
   },
   "outputs": [],
   "source": [
    "vpc_stack = 'calldata-vpc'\n",
    "redshift_stack = 'calldata-redshift'"
   ]
  },
  {
   "cell_type": "markdown",
   "metadata": {},
   "source": [
    "## Stack Settings"
   ]
  },
  {
   "cell_type": "code",
   "execution_count": null,
   "metadata": {
    "collapsed": true
   },
   "outputs": [],
   "source": [
    "database_name = 'mydb'\n",
    "redshift_db_user = 'mydbuser'\n",
    "db_bastion_host_stack = 'db-maint-host'"
   ]
  },
  {
   "cell_type": "markdown",
   "metadata": {},
   "source": [
    "## SDK Setup"
   ]
  },
  {
   "cell_type": "code",
   "execution_count": null,
   "metadata": {
    "collapsed": true
   },
   "outputs": [],
   "source": [
    "import boto3\n",
    "\n",
    "client = boto3.client('cloudformation')\n",
    "waiter = client.get_waiter('stack_create_complete')"
   ]
  },
  {
   "cell_type": "markdown",
   "metadata": {},
   "source": [
    "## VPC Set Up"
   ]
  },
  {
   "cell_type": "code",
   "execution_count": null,
   "metadata": {
    "collapsed": false
   },
   "outputs": [],
   "source": [
    "response = client.create_stack(\n",
    "    StackName=vpc_stack,\n",
    "    TemplateURL='https://s3-' + region + '.amazonaws.com/' + bucket + '/vpc-pub-priv.yaml'\n",
    ")\n",
    "\n",
    "print response\n",
    "\n",
    "print 'waiting for network stack to complete...'\n",
    "waiter.wait(\n",
    "    StackName=vpc_stack\n",
    ")\n",
    "print 'network stack created'"
   ]
  },
  {
   "cell_type": "markdown",
   "metadata": {},
   "source": [
    "## Harvest VPC Values"
   ]
  },
  {
   "cell_type": "code",
   "execution_count": null,
   "metadata": {
    "collapsed": false
   },
   "outputs": [],
   "source": [
    "response = client.describe_stacks(\n",
    "    StackName=vpc_stack\n",
    ")\n",
    "\n",
    "stack_outputs = response['Stacks'][0]['Outputs']\n",
    "\n",
    "vpc = [d for d in stack_outputs if d['OutputKey'] == 'VpcId'][0]['OutputValue']\n",
    "print vpc\n",
    "privateSubnet1 = [d for d in stack_outputs if d['OutputKey'] == 'PrivateSubnet1'][0]['OutputValue']\n",
    "print privateSubnet1\n",
    "privateSubnet2 = [d for d in stack_outputs if d['OutputKey'] == 'PrivateSubnet2'][0]['OutputValue']\n",
    "print privateSubnet2\n",
    "publicSubnet1 = [d for d in stack_outputs if d['OutputKey'] == 'PublicSubnet1'][0]['OutputValue']\n",
    "print publicSubnet1"
   ]
  },
  {
   "cell_type": "markdown",
   "metadata": {
    "collapsed": true
   },
   "source": [
    "## Create Redshift Cluster"
   ]
  },
  {
   "cell_type": "code",
   "execution_count": null,
   "metadata": {
    "collapsed": false
   },
   "outputs": [],
   "source": [
    "response = client.create_stack(\n",
    "    StackName=redshift_stack,\n",
    "    TemplateURL='https://s3-' + region + '.amazonaws.com/' + bucket + '/redshift.yml',\n",
    "    Parameters=[\n",
    "        {\n",
    "            'ParameterKey': 'MasterUsername',\n",
    "            'ParameterValue': redshift_db_user\n",
    "        },\n",
    "        {\n",
    "            'ParameterKey': 'DatabaseName',\n",
    "            'ParameterValue': database_name\n",
    "        },\n",
    "        {\n",
    "            'ParameterKey': 'NodeType',\n",
    "            'ParameterValue': 'dw2.large'\n",
    "        },\n",
    "        {\n",
    "            'ParameterKey': 'VpcId',\n",
    "            'ParameterValue': vpc\n",
    "        },\n",
    "        {\n",
    "            'ParameterKey': 'PrivateSubnet1',\n",
    "            'ParameterValue': privateSubnet1\n",
    "        },\n",
    "        {\n",
    "            'ParameterKey': 'PrivateSubnet2',\n",
    "            'ParameterValue': privateSubnet2\n",
    "        },\n",
    "        {\n",
    "            'ParameterKey': 'MasterUserPassword',\n",
    "            'ParameterValue': master_user_password\n",
    "        }\n",
    "    ]\n",
    ")\n",
    "\n",
    "print response"
   ]
  },
  {
   "cell_type": "code",
   "execution_count": null,
   "metadata": {
    "collapsed": false
   },
   "outputs": [],
   "source": [
    "print 'waiting for redshift stack to complete...'\n",
    "waiter.wait(\n",
    "    StackName=redshift_stack\n",
    ")\n",
    "print 'redshift stack created'"
   ]
  },
  {
   "cell_type": "markdown",
   "metadata": {},
   "source": [
    "## Extract Redshift Stack Output"
   ]
  },
  {
   "cell_type": "code",
   "execution_count": null,
   "metadata": {
    "collapsed": false
   },
   "outputs": [],
   "source": [
    "response = client.describe_stacks(\n",
    "    StackName=redshift_stack\n",
    ")\n",
    "\n",
    "stack_outputs = response['Stacks'][0]['Outputs']\n",
    "\n",
    "redshift_vpc_sg = [d for d in stack_outputs if d['OutputKey'] == 'VPCIngressSecurityGroup'][0]['OutputValue']\n",
    "print redshift_vpc_sg\n",
    "\n",
    "redshift_cluster_hostname = [d for d in stack_outputs if d['OutputKey'] == 'ClusterHostName'][0]['OutputValue']\n",
    "print redshift_cluster_hostname"
   ]
  },
  {
   "cell_type": "markdown",
   "metadata": {
    "collapsed": true
   },
   "source": [
    "## Launch Bastion Host\n",
    "\n",
    "Launch a bastion host into the same VPC as the redshift DB, and leverage user data to create the tables needed in Redshift."
   ]
  },
  {
   "cell_type": "code",
   "execution_count": null,
   "metadata": {
    "collapsed": false
   },
   "outputs": [],
   "source": [
    "templateUrl = bucketRoot + '/launch_maint.yml'\n",
    "print 'Launch bastion host via', templateUrl\n",
    "\n",
    "launch_resp = client.create_stack(\n",
    "    StackName=db_bastion_host_stack,\n",
    "    TemplateURL=templateUrl,\n",
    "    Parameters=[\n",
    "        {\n",
    "            'ParameterKey': 'PublicSubnet',\n",
    "            'ParameterValue': publicSubnet1\n",
    "        },\n",
    "        {\n",
    "            'ParameterKey': 'DBMaintSecurityGroup',\n",
    "            'ParameterValue': redshift_vpc_sg\n",
    "        }\n",
    "        ,\n",
    "        {\n",
    "            'ParameterKey': 'KeyName',\n",
    "            'ParameterValue': key_name\n",
    "        },\n",
    "        {\n",
    "            'ParameterKey': 'DBHost',\n",
    "            'ParameterValue': redshift_cluster_hostname\n",
    "        },\n",
    "        {\n",
    "            'ParameterKey': 'DBUser',\n",
    "            'ParameterValue': redshift_db_user\n",
    "        },\n",
    "        {\n",
    "            'ParameterKey': 'DBPassword',\n",
    "            'ParameterValue': master_user_password\n",
    "        },\n",
    "        {\n",
    "            'ParameterKey': 'DBService',\n",
    "            'ParameterValue': database_name\n",
    "        },\n",
    "        {\n",
    "            'ParameterKey': 'BucketName',\n",
    "            'ParameterValue': bucket\n",
    "        }\n",
    "    ],\n",
    "    Capabilities=[\n",
    "        'CAPABILITY_IAM',\n",
    "    ]\n",
    ")\n",
    "\n",
    "print launch_resp"
   ]
  },
  {
   "cell_type": "code",
   "execution_count": null,
   "metadata": {
    "collapsed": true
   },
   "outputs": [],
   "source": []
  }
 ],
 "metadata": {
  "kernelspec": {
   "display_name": "Python 2",
   "language": "python",
   "name": "python2"
  },
  "language_info": {
   "codemirror_mode": {
    "name": "ipython",
    "version": 2
   },
   "file_extension": ".py",
   "mimetype": "text/x-python",
   "name": "python",
   "nbconvert_exporter": "python",
   "pygments_lexer": "ipython2",
   "version": "2.7.12"
  }
 },
 "nbformat": 4,
 "nbformat_minor": 0
}
